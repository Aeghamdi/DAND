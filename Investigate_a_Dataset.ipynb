{
 "cells": [
  {
   "cell_type": "markdown",
   "metadata": {},
   "source": [
    "\n",
    "\n",
    "# Project: Investigate a Dataset (TMDB movie data)\n",
    "<a id='home11'></a>\n",
    "## Table of Contents\n",
    "<ul>\n",
    "<li><a href=\"#intro\">Introduction</a></li>\n",
    "<li><a href=\"#wrangling\">Data Wrangling</a></li>\n",
    "<li><a href=\"#eda\">Exploratory Data Analysis</a></li>\n",
    "<li><a href=\"#limitation\">Limitation</a></li>\n",
    "<li><a href=\"#conclusions\">Conclusions</a></li>\n",
    "\n",
    "</ul>"
   ]
  },
  {
   "cell_type": "markdown",
   "metadata": {},
   "source": [
    "<a id='intro'></a>\n",
    "## Introduction\n",
    "\n",
    "In this Project i choose to investigate the TMDB movie data set which contains information about 10,000 movies collected from\n",
    "The Movie Database (TMDb),\n",
    "including user ratings, revenue, cast members, runtime, release year,... etc.\n",
    "\n",
    "**Questions about this data set :**\n",
    "\n",
    "<ul>   \n",
    "<li>which movie has the most and least profit ?</li>\n",
    "<li>which movie has the most and least budgets ?</li>\n",
    "<li>which movie has the most and least revenue ?</li>\n",
    "<li>what is the average runtime of the movies ?</li>\n",
    "<li>who are the top 3 directors with the most released movies ?</li>\n",
    "\n",
    "<li>Which genre were more successful?</li>\n",
    "\n",
    "<li>List the actors that are most frequent among others</li>\n",
    "<li>What kind of properties are associated with movies with high profit?</li>\n",
    "</ul>\n",
    "\n",
    "<a href=\"#home11\">back to Table of Contents</a>\n"
   ]
  },
  {
   "cell_type": "code",
   "execution_count": 26,
   "metadata": {},
   "outputs": [],
   "source": [
    "# Use this cell to set up import statements for all of the packages that you\n",
    "#   plan to use.\n",
    "\n",
    "# Remember to include a 'magic word' so that your visualizations are plotted\n",
    "#   inline with the notebook. See this page for more:\n",
    "#   http://ipython.readthedocs.io/en/stable/interactive/magics.html\n",
    "import pandas as pd\n",
    "import numpy as np\n",
    "import seaborn as sns\n",
    "import csv\n",
    "from datetime import datetime\n",
    "import matplotlib.pyplot as plt\n",
    "% matplotlib inline"
   ]
  },
  {
   "cell_type": "markdown",
   "metadata": {},
   "source": [
    "<a id='wrangling'></a>\n",
    "## Data Wrangling\n",
    "\n",
    "\n",
    "### General Properties"
   ]
  },
  {
   "cell_type": "code",
   "execution_count": 2,
   "metadata": {},
   "outputs": [
    {
     "data": {
      "text/html": [
       "<div>\n",
       "<style>\n",
       "    .dataframe thead tr:only-child th {\n",
       "        text-align: right;\n",
       "    }\n",
       "\n",
       "    .dataframe thead th {\n",
       "        text-align: left;\n",
       "    }\n",
       "\n",
       "    .dataframe tbody tr th {\n",
       "        vertical-align: top;\n",
       "    }\n",
       "</style>\n",
       "<table border=\"1\" class=\"dataframe\">\n",
       "  <thead>\n",
       "    <tr style=\"text-align: right;\">\n",
       "      <th></th>\n",
       "      <th>id</th>\n",
       "      <th>imdb_id</th>\n",
       "      <th>popularity</th>\n",
       "      <th>budget</th>\n",
       "      <th>revenue</th>\n",
       "      <th>original_title</th>\n",
       "      <th>cast</th>\n",
       "      <th>homepage</th>\n",
       "      <th>director</th>\n",
       "      <th>tagline</th>\n",
       "      <th>...</th>\n",
       "      <th>overview</th>\n",
       "      <th>runtime</th>\n",
       "      <th>genres</th>\n",
       "      <th>production_companies</th>\n",
       "      <th>release_date</th>\n",
       "      <th>vote_count</th>\n",
       "      <th>vote_average</th>\n",
       "      <th>release_year</th>\n",
       "      <th>budget_adj</th>\n",
       "      <th>revenue_adj</th>\n",
       "    </tr>\n",
       "  </thead>\n",
       "  <tbody>\n",
       "    <tr>\n",
       "      <th>0</th>\n",
       "      <td>135397</td>\n",
       "      <td>tt0369610</td>\n",
       "      <td>32.985763</td>\n",
       "      <td>150000000</td>\n",
       "      <td>1513528810</td>\n",
       "      <td>Jurassic World</td>\n",
       "      <td>Chris Pratt|Bryce Dallas Howard|Irrfan Khan|Vi...</td>\n",
       "      <td>http://www.jurassicworld.com/</td>\n",
       "      <td>Colin Trevorrow</td>\n",
       "      <td>The park is open.</td>\n",
       "      <td>...</td>\n",
       "      <td>Twenty-two years after the events of Jurassic ...</td>\n",
       "      <td>124</td>\n",
       "      <td>Action|Adventure|Science Fiction|Thriller</td>\n",
       "      <td>Universal Studios|Amblin Entertainment|Legenda...</td>\n",
       "      <td>6/9/15</td>\n",
       "      <td>5562</td>\n",
       "      <td>6.5</td>\n",
       "      <td>2015</td>\n",
       "      <td>1.379999e+08</td>\n",
       "      <td>1.392446e+09</td>\n",
       "    </tr>\n",
       "    <tr>\n",
       "      <th>1</th>\n",
       "      <td>76341</td>\n",
       "      <td>tt1392190</td>\n",
       "      <td>28.419936</td>\n",
       "      <td>150000000</td>\n",
       "      <td>378436354</td>\n",
       "      <td>Mad Max: Fury Road</td>\n",
       "      <td>Tom Hardy|Charlize Theron|Hugh Keays-Byrne|Nic...</td>\n",
       "      <td>http://www.madmaxmovie.com/</td>\n",
       "      <td>George Miller</td>\n",
       "      <td>What a Lovely Day.</td>\n",
       "      <td>...</td>\n",
       "      <td>An apocalyptic story set in the furthest reach...</td>\n",
       "      <td>120</td>\n",
       "      <td>Action|Adventure|Science Fiction|Thriller</td>\n",
       "      <td>Village Roadshow Pictures|Kennedy Miller Produ...</td>\n",
       "      <td>5/13/15</td>\n",
       "      <td>6185</td>\n",
       "      <td>7.1</td>\n",
       "      <td>2015</td>\n",
       "      <td>1.379999e+08</td>\n",
       "      <td>3.481613e+08</td>\n",
       "    </tr>\n",
       "    <tr>\n",
       "      <th>2</th>\n",
       "      <td>262500</td>\n",
       "      <td>tt2908446</td>\n",
       "      <td>13.112507</td>\n",
       "      <td>110000000</td>\n",
       "      <td>295238201</td>\n",
       "      <td>Insurgent</td>\n",
       "      <td>Shailene Woodley|Theo James|Kate Winslet|Ansel...</td>\n",
       "      <td>http://www.thedivergentseries.movie/#insurgent</td>\n",
       "      <td>Robert Schwentke</td>\n",
       "      <td>One Choice Can Destroy You</td>\n",
       "      <td>...</td>\n",
       "      <td>Beatrice Prior must confront her inner demons ...</td>\n",
       "      <td>119</td>\n",
       "      <td>Adventure|Science Fiction|Thriller</td>\n",
       "      <td>Summit Entertainment|Mandeville Films|Red Wago...</td>\n",
       "      <td>3/18/15</td>\n",
       "      <td>2480</td>\n",
       "      <td>6.3</td>\n",
       "      <td>2015</td>\n",
       "      <td>1.012000e+08</td>\n",
       "      <td>2.716190e+08</td>\n",
       "    </tr>\n",
       "    <tr>\n",
       "      <th>3</th>\n",
       "      <td>140607</td>\n",
       "      <td>tt2488496</td>\n",
       "      <td>11.173104</td>\n",
       "      <td>200000000</td>\n",
       "      <td>2068178225</td>\n",
       "      <td>Star Wars: The Force Awakens</td>\n",
       "      <td>Harrison Ford|Mark Hamill|Carrie Fisher|Adam D...</td>\n",
       "      <td>http://www.starwars.com/films/star-wars-episod...</td>\n",
       "      <td>J.J. Abrams</td>\n",
       "      <td>Every generation has a story.</td>\n",
       "      <td>...</td>\n",
       "      <td>Thirty years after defeating the Galactic Empi...</td>\n",
       "      <td>136</td>\n",
       "      <td>Action|Adventure|Science Fiction|Fantasy</td>\n",
       "      <td>Lucasfilm|Truenorth Productions|Bad Robot</td>\n",
       "      <td>12/15/15</td>\n",
       "      <td>5292</td>\n",
       "      <td>7.5</td>\n",
       "      <td>2015</td>\n",
       "      <td>1.839999e+08</td>\n",
       "      <td>1.902723e+09</td>\n",
       "    </tr>\n",
       "    <tr>\n",
       "      <th>4</th>\n",
       "      <td>168259</td>\n",
       "      <td>tt2820852</td>\n",
       "      <td>9.335014</td>\n",
       "      <td>190000000</td>\n",
       "      <td>1506249360</td>\n",
       "      <td>Furious 7</td>\n",
       "      <td>Vin Diesel|Paul Walker|Jason Statham|Michelle ...</td>\n",
       "      <td>http://www.furious7.com/</td>\n",
       "      <td>James Wan</td>\n",
       "      <td>Vengeance Hits Home</td>\n",
       "      <td>...</td>\n",
       "      <td>Deckard Shaw seeks revenge against Dominic Tor...</td>\n",
       "      <td>137</td>\n",
       "      <td>Action|Crime|Thriller</td>\n",
       "      <td>Universal Pictures|Original Film|Media Rights ...</td>\n",
       "      <td>4/1/15</td>\n",
       "      <td>2947</td>\n",
       "      <td>7.3</td>\n",
       "      <td>2015</td>\n",
       "      <td>1.747999e+08</td>\n",
       "      <td>1.385749e+09</td>\n",
       "    </tr>\n",
       "  </tbody>\n",
       "</table>\n",
       "<p>5 rows × 21 columns</p>\n",
       "</div>"
      ],
      "text/plain": [
       "       id    imdb_id  popularity     budget     revenue  \\\n",
       "0  135397  tt0369610   32.985763  150000000  1513528810   \n",
       "1   76341  tt1392190   28.419936  150000000   378436354   \n",
       "2  262500  tt2908446   13.112507  110000000   295238201   \n",
       "3  140607  tt2488496   11.173104  200000000  2068178225   \n",
       "4  168259  tt2820852    9.335014  190000000  1506249360   \n",
       "\n",
       "                 original_title  \\\n",
       "0                Jurassic World   \n",
       "1            Mad Max: Fury Road   \n",
       "2                     Insurgent   \n",
       "3  Star Wars: The Force Awakens   \n",
       "4                     Furious 7   \n",
       "\n",
       "                                                cast  \\\n",
       "0  Chris Pratt|Bryce Dallas Howard|Irrfan Khan|Vi...   \n",
       "1  Tom Hardy|Charlize Theron|Hugh Keays-Byrne|Nic...   \n",
       "2  Shailene Woodley|Theo James|Kate Winslet|Ansel...   \n",
       "3  Harrison Ford|Mark Hamill|Carrie Fisher|Adam D...   \n",
       "4  Vin Diesel|Paul Walker|Jason Statham|Michelle ...   \n",
       "\n",
       "                                            homepage          director  \\\n",
       "0                      http://www.jurassicworld.com/   Colin Trevorrow   \n",
       "1                        http://www.madmaxmovie.com/     George Miller   \n",
       "2     http://www.thedivergentseries.movie/#insurgent  Robert Schwentke   \n",
       "3  http://www.starwars.com/films/star-wars-episod...       J.J. Abrams   \n",
       "4                           http://www.furious7.com/         James Wan   \n",
       "\n",
       "                         tagline      ...       \\\n",
       "0              The park is open.      ...        \n",
       "1             What a Lovely Day.      ...        \n",
       "2     One Choice Can Destroy You      ...        \n",
       "3  Every generation has a story.      ...        \n",
       "4            Vengeance Hits Home      ...        \n",
       "\n",
       "                                            overview runtime  \\\n",
       "0  Twenty-two years after the events of Jurassic ...     124   \n",
       "1  An apocalyptic story set in the furthest reach...     120   \n",
       "2  Beatrice Prior must confront her inner demons ...     119   \n",
       "3  Thirty years after defeating the Galactic Empi...     136   \n",
       "4  Deckard Shaw seeks revenge against Dominic Tor...     137   \n",
       "\n",
       "                                      genres  \\\n",
       "0  Action|Adventure|Science Fiction|Thriller   \n",
       "1  Action|Adventure|Science Fiction|Thriller   \n",
       "2         Adventure|Science Fiction|Thriller   \n",
       "3   Action|Adventure|Science Fiction|Fantasy   \n",
       "4                      Action|Crime|Thriller   \n",
       "\n",
       "                                production_companies release_date vote_count  \\\n",
       "0  Universal Studios|Amblin Entertainment|Legenda...       6/9/15       5562   \n",
       "1  Village Roadshow Pictures|Kennedy Miller Produ...      5/13/15       6185   \n",
       "2  Summit Entertainment|Mandeville Films|Red Wago...      3/18/15       2480   \n",
       "3          Lucasfilm|Truenorth Productions|Bad Robot     12/15/15       5292   \n",
       "4  Universal Pictures|Original Film|Media Rights ...       4/1/15       2947   \n",
       "\n",
       "   vote_average  release_year    budget_adj   revenue_adj  \n",
       "0           6.5          2015  1.379999e+08  1.392446e+09  \n",
       "1           7.1          2015  1.379999e+08  3.481613e+08  \n",
       "2           6.3          2015  1.012000e+08  2.716190e+08  \n",
       "3           7.5          2015  1.839999e+08  1.902723e+09  \n",
       "4           7.3          2015  1.747999e+08  1.385749e+09  \n",
       "\n",
       "[5 rows x 21 columns]"
      ]
     },
     "execution_count": 2,
     "metadata": {},
     "output_type": "execute_result"
    }
   ],
   "source": [
    "# Load your data and print out a few lines. Perform operations to inspect data\n",
    "#   types and look for instances of missing or possibly errant data.\n",
    "tmdb = pd.read_csv('tmdb-movies.csv')\n",
    "tmdb.head()\n"
   ]
  },
  {
   "cell_type": "markdown",
   "metadata": {},
   "source": [
    "**I noticed the following :**\n",
    "\n",
    "<ul>   \n",
    "<li>The unit of currency is not mentioned in this data set so we will assume it is US dollar.</li>\n",
    "\n",
    "<li>The popularity is not correct because the voters count diverse for each movie so it's not valid to be used in analysing.</li>\n",
    "</ul>\n",
    "\n",
    "### Data Cleaning (Replace this with more specific notes!)\n",
    "\n",
    "**i will do the following :**\n",
    "\n",
    "<ul>   \n",
    "<li>Removing columns such as: id, imdb_id, vote_count, production_company, keywords, homepage.</li>\n",
    "<li>Removing the duplicacy.</li>\n",
    "<li>Discarding records that have zero budget or zero revenue.</li>\n",
    "<li>Converting release date column into date format.</li>\n",
    "<li>Replacing zero with NAN in runtime column.</li>\n",
    "<li>Changing format of budget and revenue column.</li>\n",
    "</ul>\n",
    "\n",
    "<a href=\"#home11\">back to Table of Contents</a>\n"
   ]
  },
  {
   "cell_type": "code",
   "execution_count": 3,
   "metadata": {
    "scrolled": true
   },
   "outputs": [
    {
     "data": {
      "text/html": [
       "<div>\n",
       "<style>\n",
       "    .dataframe thead tr:only-child th {\n",
       "        text-align: right;\n",
       "    }\n",
       "\n",
       "    .dataframe thead th {\n",
       "        text-align: left;\n",
       "    }\n",
       "\n",
       "    .dataframe tbody tr th {\n",
       "        vertical-align: top;\n",
       "    }\n",
       "</style>\n",
       "<table border=\"1\" class=\"dataframe\">\n",
       "  <thead>\n",
       "    <tr style=\"text-align: right;\">\n",
       "      <th></th>\n",
       "      <th>budget</th>\n",
       "      <th>revenue</th>\n",
       "      <th>original_title</th>\n",
       "      <th>cast</th>\n",
       "      <th>director</th>\n",
       "      <th>tagline</th>\n",
       "      <th>runtime</th>\n",
       "      <th>genres</th>\n",
       "      <th>production_companies</th>\n",
       "      <th>release_date</th>\n",
       "      <th>release_year</th>\n",
       "    </tr>\n",
       "  </thead>\n",
       "  <tbody>\n",
       "    <tr>\n",
       "      <th>0</th>\n",
       "      <td>150000000</td>\n",
       "      <td>1513528810</td>\n",
       "      <td>Jurassic World</td>\n",
       "      <td>Chris Pratt|Bryce Dallas Howard|Irrfan Khan|Vi...</td>\n",
       "      <td>Colin Trevorrow</td>\n",
       "      <td>The park is open.</td>\n",
       "      <td>124</td>\n",
       "      <td>Action|Adventure|Science Fiction|Thriller</td>\n",
       "      <td>Universal Studios|Amblin Entertainment|Legenda...</td>\n",
       "      <td>6/9/15</td>\n",
       "      <td>2015</td>\n",
       "    </tr>\n",
       "    <tr>\n",
       "      <th>1</th>\n",
       "      <td>150000000</td>\n",
       "      <td>378436354</td>\n",
       "      <td>Mad Max: Fury Road</td>\n",
       "      <td>Tom Hardy|Charlize Theron|Hugh Keays-Byrne|Nic...</td>\n",
       "      <td>George Miller</td>\n",
       "      <td>What a Lovely Day.</td>\n",
       "      <td>120</td>\n",
       "      <td>Action|Adventure|Science Fiction|Thriller</td>\n",
       "      <td>Village Roadshow Pictures|Kennedy Miller Produ...</td>\n",
       "      <td>5/13/15</td>\n",
       "      <td>2015</td>\n",
       "    </tr>\n",
       "    <tr>\n",
       "      <th>2</th>\n",
       "      <td>110000000</td>\n",
       "      <td>295238201</td>\n",
       "      <td>Insurgent</td>\n",
       "      <td>Shailene Woodley|Theo James|Kate Winslet|Ansel...</td>\n",
       "      <td>Robert Schwentke</td>\n",
       "      <td>One Choice Can Destroy You</td>\n",
       "      <td>119</td>\n",
       "      <td>Adventure|Science Fiction|Thriller</td>\n",
       "      <td>Summit Entertainment|Mandeville Films|Red Wago...</td>\n",
       "      <td>3/18/15</td>\n",
       "      <td>2015</td>\n",
       "    </tr>\n",
       "    <tr>\n",
       "      <th>3</th>\n",
       "      <td>200000000</td>\n",
       "      <td>2068178225</td>\n",
       "      <td>Star Wars: The Force Awakens</td>\n",
       "      <td>Harrison Ford|Mark Hamill|Carrie Fisher|Adam D...</td>\n",
       "      <td>J.J. Abrams</td>\n",
       "      <td>Every generation has a story.</td>\n",
       "      <td>136</td>\n",
       "      <td>Action|Adventure|Science Fiction|Fantasy</td>\n",
       "      <td>Lucasfilm|Truenorth Productions|Bad Robot</td>\n",
       "      <td>12/15/15</td>\n",
       "      <td>2015</td>\n",
       "    </tr>\n",
       "    <tr>\n",
       "      <th>4</th>\n",
       "      <td>190000000</td>\n",
       "      <td>1506249360</td>\n",
       "      <td>Furious 7</td>\n",
       "      <td>Vin Diesel|Paul Walker|Jason Statham|Michelle ...</td>\n",
       "      <td>James Wan</td>\n",
       "      <td>Vengeance Hits Home</td>\n",
       "      <td>137</td>\n",
       "      <td>Action|Crime|Thriller</td>\n",
       "      <td>Universal Pictures|Original Film|Media Rights ...</td>\n",
       "      <td>4/1/15</td>\n",
       "      <td>2015</td>\n",
       "    </tr>\n",
       "  </tbody>\n",
       "</table>\n",
       "</div>"
      ],
      "text/plain": [
       "      budget     revenue                original_title  \\\n",
       "0  150000000  1513528810                Jurassic World   \n",
       "1  150000000   378436354            Mad Max: Fury Road   \n",
       "2  110000000   295238201                     Insurgent   \n",
       "3  200000000  2068178225  Star Wars: The Force Awakens   \n",
       "4  190000000  1506249360                     Furious 7   \n",
       "\n",
       "                                                cast          director  \\\n",
       "0  Chris Pratt|Bryce Dallas Howard|Irrfan Khan|Vi...   Colin Trevorrow   \n",
       "1  Tom Hardy|Charlize Theron|Hugh Keays-Byrne|Nic...     George Miller   \n",
       "2  Shailene Woodley|Theo James|Kate Winslet|Ansel...  Robert Schwentke   \n",
       "3  Harrison Ford|Mark Hamill|Carrie Fisher|Adam D...       J.J. Abrams   \n",
       "4  Vin Diesel|Paul Walker|Jason Statham|Michelle ...         James Wan   \n",
       "\n",
       "                         tagline  runtime  \\\n",
       "0              The park is open.      124   \n",
       "1             What a Lovely Day.      120   \n",
       "2     One Choice Can Destroy You      119   \n",
       "3  Every generation has a story.      136   \n",
       "4            Vengeance Hits Home      137   \n",
       "\n",
       "                                      genres  \\\n",
       "0  Action|Adventure|Science Fiction|Thriller   \n",
       "1  Action|Adventure|Science Fiction|Thriller   \n",
       "2         Adventure|Science Fiction|Thriller   \n",
       "3   Action|Adventure|Science Fiction|Fantasy   \n",
       "4                      Action|Crime|Thriller   \n",
       "\n",
       "                                production_companies release_date  \\\n",
       "0  Universal Studios|Amblin Entertainment|Legenda...       6/9/15   \n",
       "1  Village Roadshow Pictures|Kennedy Miller Produ...      5/13/15   \n",
       "2  Summit Entertainment|Mandeville Films|Red Wago...      3/18/15   \n",
       "3          Lucasfilm|Truenorth Productions|Bad Robot     12/15/15   \n",
       "4  Universal Pictures|Original Film|Media Rights ...       4/1/15   \n",
       "\n",
       "   release_year  \n",
       "0          2015  \n",
       "1          2015  \n",
       "2          2015  \n",
       "3          2015  \n",
       "4          2015  "
      ]
     },
     "execution_count": 3,
     "metadata": {},
     "output_type": "execute_result"
    }
   ],
   "source": [
    "#Removing columns such as: id, imdb_id, vote_count, production_company, keywords, homepage\n",
    "del_col=[ 'id', 'imdb_id', 'popularity', 'budget_adj', 'revenue_adj', 'homepage', 'keywords', 'overview', 'vote_count', 'vote_average']\n",
    "tmdb= tmdb.drop(del_col,1)\n",
    "tmdb.head()"
   ]
  },
  {
   "cell_type": "code",
   "execution_count": 6,
   "metadata": {},
   "outputs": [
    {
     "name": "stdout",
     "output_type": "stream",
     "text": [
      "There number of movies is 10864 movie and the no.of columns is 11 column \n"
     ]
    }
   ],
   "source": [
    "# counting rowa and columns \n",
    "rows, col = tmdb.shape\n",
    "print('There number of movies is {} movie and the no.of columns is {} column '.format(rows-1, col))"
   ]
  },
  {
   "cell_type": "code",
   "execution_count": 7,
   "metadata": {},
   "outputs": [
    {
     "name": "stdout",
     "output_type": "stream",
     "text": [
      "There number of movies is 10864 movie and the no.of columns is 11 column \n"
     ]
    }
   ],
   "source": [
    "#Removing the duplicacy.\n",
    "tmdb.drop_duplicates(keep ='first', inplace=True)\n",
    "rows, col = tmdb.shape\n",
    "\n",
    "# counting rowa and columns again \n",
    "print('There number of movies is {} movie and the no.of columns is {} column '.format(rows-1, col))"
   ]
  },
  {
   "cell_type": "code",
   "execution_count": 8,
   "metadata": {},
   "outputs": [
    {
     "name": "stdout",
     "output_type": "stream",
     "text": [
      "I discarded the The records with zero budget or zero revenue, \n",
      "so now the number of movies is 3853 movie and the no.of columns is 11 column \n"
     ]
    }
   ],
   "source": [
    "#Discarding records that have zero budget or zero revenue.\n",
    "list11=['budget', 'revenue']\n",
    "tmdb[list11]=tmdb[list11].replace(0,np.NAN)\n",
    "tmdb.dropna(subset = list11, inplace = True)\n",
    "\n",
    "rows, col = tmdb.shape\n",
    "print('I discarded the The records with zero budget or zero revenue, \\nso now the number of movies is {} movie and the no.of columns is {} column '.format(rows-1, col))"
   ]
  },
  {
   "cell_type": "code",
   "execution_count": 9,
   "metadata": {},
   "outputs": [
    {
     "data": {
      "text/html": [
       "<div>\n",
       "<style>\n",
       "    .dataframe thead tr:only-child th {\n",
       "        text-align: right;\n",
       "    }\n",
       "\n",
       "    .dataframe thead th {\n",
       "        text-align: left;\n",
       "    }\n",
       "\n",
       "    .dataframe tbody tr th {\n",
       "        vertical-align: top;\n",
       "    }\n",
       "</style>\n",
       "<table border=\"1\" class=\"dataframe\">\n",
       "  <thead>\n",
       "    <tr style=\"text-align: right;\">\n",
       "      <th></th>\n",
       "      <th>budget</th>\n",
       "      <th>revenue</th>\n",
       "      <th>original_title</th>\n",
       "      <th>cast</th>\n",
       "      <th>director</th>\n",
       "      <th>tagline</th>\n",
       "      <th>runtime</th>\n",
       "      <th>genres</th>\n",
       "      <th>production_companies</th>\n",
       "      <th>release_date</th>\n",
       "      <th>release_year</th>\n",
       "    </tr>\n",
       "  </thead>\n",
       "  <tbody>\n",
       "    <tr>\n",
       "      <th>0</th>\n",
       "      <td>150000000.0</td>\n",
       "      <td>1.513529e+09</td>\n",
       "      <td>Jurassic World</td>\n",
       "      <td>Chris Pratt|Bryce Dallas Howard|Irrfan Khan|Vi...</td>\n",
       "      <td>Colin Trevorrow</td>\n",
       "      <td>The park is open.</td>\n",
       "      <td>124</td>\n",
       "      <td>Action|Adventure|Science Fiction|Thriller</td>\n",
       "      <td>Universal Studios|Amblin Entertainment|Legenda...</td>\n",
       "      <td>2015-06-09</td>\n",
       "      <td>2015</td>\n",
       "    </tr>\n",
       "    <tr>\n",
       "      <th>1</th>\n",
       "      <td>150000000.0</td>\n",
       "      <td>3.784364e+08</td>\n",
       "      <td>Mad Max: Fury Road</td>\n",
       "      <td>Tom Hardy|Charlize Theron|Hugh Keays-Byrne|Nic...</td>\n",
       "      <td>George Miller</td>\n",
       "      <td>What a Lovely Day.</td>\n",
       "      <td>120</td>\n",
       "      <td>Action|Adventure|Science Fiction|Thriller</td>\n",
       "      <td>Village Roadshow Pictures|Kennedy Miller Produ...</td>\n",
       "      <td>2015-05-13</td>\n",
       "      <td>2015</td>\n",
       "    </tr>\n",
       "    <tr>\n",
       "      <th>2</th>\n",
       "      <td>110000000.0</td>\n",
       "      <td>2.952382e+08</td>\n",
       "      <td>Insurgent</td>\n",
       "      <td>Shailene Woodley|Theo James|Kate Winslet|Ansel...</td>\n",
       "      <td>Robert Schwentke</td>\n",
       "      <td>One Choice Can Destroy You</td>\n",
       "      <td>119</td>\n",
       "      <td>Adventure|Science Fiction|Thriller</td>\n",
       "      <td>Summit Entertainment|Mandeville Films|Red Wago...</td>\n",
       "      <td>2015-03-18</td>\n",
       "      <td>2015</td>\n",
       "    </tr>\n",
       "    <tr>\n",
       "      <th>3</th>\n",
       "      <td>200000000.0</td>\n",
       "      <td>2.068178e+09</td>\n",
       "      <td>Star Wars: The Force Awakens</td>\n",
       "      <td>Harrison Ford|Mark Hamill|Carrie Fisher|Adam D...</td>\n",
       "      <td>J.J. Abrams</td>\n",
       "      <td>Every generation has a story.</td>\n",
       "      <td>136</td>\n",
       "      <td>Action|Adventure|Science Fiction|Fantasy</td>\n",
       "      <td>Lucasfilm|Truenorth Productions|Bad Robot</td>\n",
       "      <td>2015-12-15</td>\n",
       "      <td>2015</td>\n",
       "    </tr>\n",
       "    <tr>\n",
       "      <th>4</th>\n",
       "      <td>190000000.0</td>\n",
       "      <td>1.506249e+09</td>\n",
       "      <td>Furious 7</td>\n",
       "      <td>Vin Diesel|Paul Walker|Jason Statham|Michelle ...</td>\n",
       "      <td>James Wan</td>\n",
       "      <td>Vengeance Hits Home</td>\n",
       "      <td>137</td>\n",
       "      <td>Action|Crime|Thriller</td>\n",
       "      <td>Universal Pictures|Original Film|Media Rights ...</td>\n",
       "      <td>2015-04-01</td>\n",
       "      <td>2015</td>\n",
       "    </tr>\n",
       "  </tbody>\n",
       "</table>\n",
       "</div>"
      ],
      "text/plain": [
       "        budget       revenue                original_title  \\\n",
       "0  150000000.0  1.513529e+09                Jurassic World   \n",
       "1  150000000.0  3.784364e+08            Mad Max: Fury Road   \n",
       "2  110000000.0  2.952382e+08                     Insurgent   \n",
       "3  200000000.0  2.068178e+09  Star Wars: The Force Awakens   \n",
       "4  190000000.0  1.506249e+09                     Furious 7   \n",
       "\n",
       "                                                cast          director  \\\n",
       "0  Chris Pratt|Bryce Dallas Howard|Irrfan Khan|Vi...   Colin Trevorrow   \n",
       "1  Tom Hardy|Charlize Theron|Hugh Keays-Byrne|Nic...     George Miller   \n",
       "2  Shailene Woodley|Theo James|Kate Winslet|Ansel...  Robert Schwentke   \n",
       "3  Harrison Ford|Mark Hamill|Carrie Fisher|Adam D...       J.J. Abrams   \n",
       "4  Vin Diesel|Paul Walker|Jason Statham|Michelle ...         James Wan   \n",
       "\n",
       "                         tagline  runtime  \\\n",
       "0              The park is open.      124   \n",
       "1             What a Lovely Day.      120   \n",
       "2     One Choice Can Destroy You      119   \n",
       "3  Every generation has a story.      136   \n",
       "4            Vengeance Hits Home      137   \n",
       "\n",
       "                                      genres  \\\n",
       "0  Action|Adventure|Science Fiction|Thriller   \n",
       "1  Action|Adventure|Science Fiction|Thriller   \n",
       "2         Adventure|Science Fiction|Thriller   \n",
       "3   Action|Adventure|Science Fiction|Fantasy   \n",
       "4                      Action|Crime|Thriller   \n",
       "\n",
       "                                production_companies release_date  \\\n",
       "0  Universal Studios|Amblin Entertainment|Legenda...   2015-06-09   \n",
       "1  Village Roadshow Pictures|Kennedy Miller Produ...   2015-05-13   \n",
       "2  Summit Entertainment|Mandeville Films|Red Wago...   2015-03-18   \n",
       "3          Lucasfilm|Truenorth Productions|Bad Robot   2015-12-15   \n",
       "4  Universal Pictures|Original Film|Media Rights ...   2015-04-01   \n",
       "\n",
       "   release_year  \n",
       "0          2015  \n",
       "1          2015  \n",
       "2          2015  \n",
       "3          2015  \n",
       "4          2015  "
      ]
     },
     "execution_count": 9,
     "metadata": {},
     "output_type": "execute_result"
    }
   ],
   "source": [
    "#Converting release date column into date format.\n",
    "tmdb.release_date = pd.to_datetime(tmdb['release_date'])\n",
    "\n",
    "#to check the affected recoreds\n",
    "tmdb.head()"
   ]
  },
  {
   "cell_type": "code",
   "execution_count": 10,
   "metadata": {},
   "outputs": [
    {
     "data": {
      "text/plain": [
       "budget                         float64\n",
       "revenue                        float64\n",
       "original_title                  object\n",
       "cast                            object\n",
       "director                        object\n",
       "tagline                         object\n",
       "runtime                          int64\n",
       "genres                          object\n",
       "production_companies            object\n",
       "release_date            datetime64[ns]\n",
       "release_year                     int64\n",
       "dtype: object"
      ]
     },
     "execution_count": 10,
     "metadata": {},
     "output_type": "execute_result"
    }
   ],
   "source": [
    "#Replacing zero with NAN in runtime column.\n",
    "tmdb['runtime'] =tmdb['runtime'].replace(0, np.NAN)\n",
    "\n",
    "#checking the current datatypes\n",
    "tmdb.dtypes"
   ]
  },
  {
   "cell_type": "code",
   "execution_count": 11,
   "metadata": {},
   "outputs": [
    {
     "data": {
      "text/plain": [
       "budget                           int64\n",
       "revenue                          int64\n",
       "original_title                  object\n",
       "cast                            object\n",
       "director                        object\n",
       "tagline                         object\n",
       "runtime                          int64\n",
       "genres                          object\n",
       "production_companies            object\n",
       "release_date            datetime64[ns]\n",
       "release_year                     int64\n",
       "dtype: object"
      ]
     },
     "execution_count": 11,
     "metadata": {},
     "output_type": "execute_result"
    }
   ],
   "source": [
    "#Changing format of budget and revenue column.\n",
    "change_type=['budget','revenue']\n",
    "tmdb[change_type]=tmdb[change_type].applymap(np.int64)\n",
    "\n",
    "#checking the current datatypes\n",
    "tmdb.dtypes"
   ]
  },
  {
   "cell_type": "markdown",
   "metadata": {},
   "source": [
    "<a href=\"#home11\">back to Table of Contents</a>"
   ]
  },
  {
   "cell_type": "markdown",
   "metadata": {},
   "source": [
    "<a id='eda'></a>\n",
    "## Exploratory Data Analysis\n",
    "\n",
    "\n",
    "### Research Question 1 \n",
    "**which movies has the most and least profit ?**\n",
    "\n",
    "\n",
    "in order to know this i will calculate the profit for each movie then assign it to new column in the dataset."
   ]
  },
  {
   "cell_type": "code",
   "execution_count": 12,
   "metadata": {},
   "outputs": [
    {
     "data": {
      "text/html": [
       "<div>\n",
       "<style>\n",
       "    .dataframe thead tr:only-child th {\n",
       "        text-align: right;\n",
       "    }\n",
       "\n",
       "    .dataframe thead th {\n",
       "        text-align: left;\n",
       "    }\n",
       "\n",
       "    .dataframe tbody tr th {\n",
       "        vertical-align: top;\n",
       "    }\n",
       "</style>\n",
       "<table border=\"1\" class=\"dataframe\">\n",
       "  <thead>\n",
       "    <tr style=\"text-align: right;\">\n",
       "      <th></th>\n",
       "      <th>budget</th>\n",
       "      <th>revenue</th>\n",
       "      <th>profit</th>\n",
       "      <th>original_title</th>\n",
       "      <th>cast</th>\n",
       "      <th>director</th>\n",
       "      <th>tagline</th>\n",
       "      <th>runtime</th>\n",
       "      <th>genres</th>\n",
       "      <th>production_companies</th>\n",
       "      <th>release_date</th>\n",
       "      <th>release_year</th>\n",
       "    </tr>\n",
       "  </thead>\n",
       "  <tbody>\n",
       "    <tr>\n",
       "      <th>0</th>\n",
       "      <td>150000000</td>\n",
       "      <td>1513528810</td>\n",
       "      <td>1363528810</td>\n",
       "      <td>Jurassic World</td>\n",
       "      <td>Chris Pratt|Bryce Dallas Howard|Irrfan Khan|Vi...</td>\n",
       "      <td>Colin Trevorrow</td>\n",
       "      <td>The park is open.</td>\n",
       "      <td>124</td>\n",
       "      <td>Action|Adventure|Science Fiction|Thriller</td>\n",
       "      <td>Universal Studios|Amblin Entertainment|Legenda...</td>\n",
       "      <td>2015-06-09</td>\n",
       "      <td>2015</td>\n",
       "    </tr>\n",
       "    <tr>\n",
       "      <th>1</th>\n",
       "      <td>150000000</td>\n",
       "      <td>378436354</td>\n",
       "      <td>228436354</td>\n",
       "      <td>Mad Max: Fury Road</td>\n",
       "      <td>Tom Hardy|Charlize Theron|Hugh Keays-Byrne|Nic...</td>\n",
       "      <td>George Miller</td>\n",
       "      <td>What a Lovely Day.</td>\n",
       "      <td>120</td>\n",
       "      <td>Action|Adventure|Science Fiction|Thriller</td>\n",
       "      <td>Village Roadshow Pictures|Kennedy Miller Produ...</td>\n",
       "      <td>2015-05-13</td>\n",
       "      <td>2015</td>\n",
       "    </tr>\n",
       "  </tbody>\n",
       "</table>\n",
       "</div>"
      ],
      "text/plain": [
       "      budget     revenue      profit      original_title  \\\n",
       "0  150000000  1513528810  1363528810      Jurassic World   \n",
       "1  150000000   378436354   228436354  Mad Max: Fury Road   \n",
       "\n",
       "                                                cast         director  \\\n",
       "0  Chris Pratt|Bryce Dallas Howard|Irrfan Khan|Vi...  Colin Trevorrow   \n",
       "1  Tom Hardy|Charlize Theron|Hugh Keays-Byrne|Nic...    George Miller   \n",
       "\n",
       "              tagline  runtime                                     genres  \\\n",
       "0   The park is open.      124  Action|Adventure|Science Fiction|Thriller   \n",
       "1  What a Lovely Day.      120  Action|Adventure|Science Fiction|Thriller   \n",
       "\n",
       "                                production_companies release_date  \\\n",
       "0  Universal Studios|Amblin Entertainment|Legenda...   2015-06-09   \n",
       "1  Village Roadshow Pictures|Kennedy Miller Produ...   2015-05-13   \n",
       "\n",
       "   release_year  \n",
       "0          2015  \n",
       "1          2015  "
      ]
     },
     "execution_count": 12,
     "metadata": {},
     "output_type": "execute_result"
    }
   ],
   "source": [
    "#calculate the profit and assign it to new column\n",
    "tmdb.insert(2,'profit',tmdb['revenue']-tmdb['budget'])\n",
    "\n",
    "tmdb.head(2)"
   ]
  },
  {
   "cell_type": "markdown",
   "metadata": {},
   "source": [
    "in order to know the min & max of any column i will create new function."
   ]
  },
  {
   "cell_type": "code",
   "execution_count": 13,
   "metadata": {
    "scrolled": false
   },
   "outputs": [
    {
     "data": {
      "text/html": [
       "<div>\n",
       "<style>\n",
       "    .dataframe thead tr:only-child th {\n",
       "        text-align: right;\n",
       "    }\n",
       "\n",
       "    .dataframe thead th {\n",
       "        text-align: left;\n",
       "    }\n",
       "\n",
       "    .dataframe tbody tr th {\n",
       "        vertical-align: top;\n",
       "    }\n",
       "</style>\n",
       "<table border=\"1\" class=\"dataframe\">\n",
       "  <thead>\n",
       "    <tr style=\"text-align: right;\">\n",
       "      <th></th>\n",
       "      <th>1386</th>\n",
       "      <th>2244</th>\n",
       "    </tr>\n",
       "  </thead>\n",
       "  <tbody>\n",
       "    <tr>\n",
       "      <th>budget</th>\n",
       "      <td>237000000</td>\n",
       "      <td>425000000</td>\n",
       "    </tr>\n",
       "    <tr>\n",
       "      <th>revenue</th>\n",
       "      <td>2781505847</td>\n",
       "      <td>11087569</td>\n",
       "    </tr>\n",
       "    <tr>\n",
       "      <th>profit</th>\n",
       "      <td>2544505847</td>\n",
       "      <td>-413912431</td>\n",
       "    </tr>\n",
       "    <tr>\n",
       "      <th>original_title</th>\n",
       "      <td>Avatar</td>\n",
       "      <td>The Warrior's Way</td>\n",
       "    </tr>\n",
       "    <tr>\n",
       "      <th>cast</th>\n",
       "      <td>Sam Worthington|Zoe Saldana|Sigourney Weaver|S...</td>\n",
       "      <td>Kate Bosworth|Jang Dong-gun|Geoffrey Rush|Dann...</td>\n",
       "    </tr>\n",
       "    <tr>\n",
       "      <th>director</th>\n",
       "      <td>James Cameron</td>\n",
       "      <td>Sngmoo Lee</td>\n",
       "    </tr>\n",
       "    <tr>\n",
       "      <th>tagline</th>\n",
       "      <td>Enter the World of Pandora.</td>\n",
       "      <td>Assassin. Hero. Legend.</td>\n",
       "    </tr>\n",
       "    <tr>\n",
       "      <th>runtime</th>\n",
       "      <td>162</td>\n",
       "      <td>100</td>\n",
       "    </tr>\n",
       "    <tr>\n",
       "      <th>genres</th>\n",
       "      <td>Action|Adventure|Fantasy|Science Fiction</td>\n",
       "      <td>Adventure|Fantasy|Action|Western|Thriller</td>\n",
       "    </tr>\n",
       "    <tr>\n",
       "      <th>production_companies</th>\n",
       "      <td>Ingenious Film Partners|Twentieth Century Fox ...</td>\n",
       "      <td>Boram Entertainment Inc.</td>\n",
       "    </tr>\n",
       "    <tr>\n",
       "      <th>release_date</th>\n",
       "      <td>2009-12-10 00:00:00</td>\n",
       "      <td>2010-12-02 00:00:00</td>\n",
       "    </tr>\n",
       "    <tr>\n",
       "      <th>release_year</th>\n",
       "      <td>2009</td>\n",
       "      <td>2010</td>\n",
       "    </tr>\n",
       "  </tbody>\n",
       "</table>\n",
       "</div>"
      ],
      "text/plain": [
       "                                                                   1386  \\\n",
       "budget                                                        237000000   \n",
       "revenue                                                      2781505847   \n",
       "profit                                                       2544505847   \n",
       "original_title                                                   Avatar   \n",
       "cast                  Sam Worthington|Zoe Saldana|Sigourney Weaver|S...   \n",
       "director                                                  James Cameron   \n",
       "tagline                                     Enter the World of Pandora.   \n",
       "runtime                                                             162   \n",
       "genres                         Action|Adventure|Fantasy|Science Fiction   \n",
       "production_companies  Ingenious Film Partners|Twentieth Century Fox ...   \n",
       "release_date                                        2009-12-10 00:00:00   \n",
       "release_year                                                       2009   \n",
       "\n",
       "                                                                   2244  \n",
       "budget                                                        425000000  \n",
       "revenue                                                        11087569  \n",
       "profit                                                       -413912431  \n",
       "original_title                                        The Warrior's Way  \n",
       "cast                  Kate Bosworth|Jang Dong-gun|Geoffrey Rush|Dann...  \n",
       "director                                                     Sngmoo Lee  \n",
       "tagline                                         Assassin. Hero. Legend.  \n",
       "runtime                                                             100  \n",
       "genres                        Adventure|Fantasy|Action|Western|Thriller  \n",
       "production_companies                           Boram Entertainment Inc.  \n",
       "release_date                                        2010-12-02 00:00:00  \n",
       "release_year                                                       2010  "
      ]
     },
     "execution_count": 13,
     "metadata": {},
     "output_type": "execute_result"
    }
   ],
   "source": [
    "def simple_analysis(column):\n",
    "\n",
    "    highest= tmdb[column].idxmax()\n",
    "    high11=pd.DataFrame(tmdb.loc[highest])\n",
    "\n",
    "    lowest= tmdb[column].idxmin()\n",
    "    low11=pd.DataFrame(tmdb.loc[lowest])\n",
    "\n",
    "    result=pd.concat([high11, low11], axis=1)\n",
    "    \n",
    "    return result\n",
    "\n",
    "simple_analysis('profit')\n"
   ]
  },
  {
   "cell_type": "markdown",
   "metadata": {},
   "source": [
    "### Answear Question 1 \n",
    "which movie has the most and least profit ?\n",
    "\n",
    "**The result shows that \"Avatar\" movie has the highest profit and \"The Warrior's Way\" has the lowest.**\n",
    "\n",
    "<a href=\"#home11\">back to Table of Contents</a>"
   ]
  },
  {
   "cell_type": "markdown",
   "metadata": {},
   "source": [
    "### Research Question 2 \n",
    "**which movie has the most and least budgets ?**\n",
    "\n",
    "\n",
    "in order to know this i will use the same function, simple_analysis."
   ]
  },
  {
   "cell_type": "code",
   "execution_count": 14,
   "metadata": {
    "scrolled": false
   },
   "outputs": [
    {
     "data": {
      "text/html": [
       "<div>\n",
       "<style>\n",
       "    .dataframe thead tr:only-child th {\n",
       "        text-align: right;\n",
       "    }\n",
       "\n",
       "    .dataframe thead th {\n",
       "        text-align: left;\n",
       "    }\n",
       "\n",
       "    .dataframe tbody tr th {\n",
       "        vertical-align: top;\n",
       "    }\n",
       "</style>\n",
       "<table border=\"1\" class=\"dataframe\">\n",
       "  <thead>\n",
       "    <tr style=\"text-align: right;\">\n",
       "      <th></th>\n",
       "      <th>2244</th>\n",
       "      <th>2618</th>\n",
       "    </tr>\n",
       "  </thead>\n",
       "  <tbody>\n",
       "    <tr>\n",
       "      <th>budget</th>\n",
       "      <td>425000000</td>\n",
       "      <td>1</td>\n",
       "    </tr>\n",
       "    <tr>\n",
       "      <th>revenue</th>\n",
       "      <td>11087569</td>\n",
       "      <td>100</td>\n",
       "    </tr>\n",
       "    <tr>\n",
       "      <th>profit</th>\n",
       "      <td>-413912431</td>\n",
       "      <td>99</td>\n",
       "    </tr>\n",
       "    <tr>\n",
       "      <th>original_title</th>\n",
       "      <td>The Warrior's Way</td>\n",
       "      <td>Lost &amp; Found</td>\n",
       "    </tr>\n",
       "    <tr>\n",
       "      <th>cast</th>\n",
       "      <td>Kate Bosworth|Jang Dong-gun|Geoffrey Rush|Dann...</td>\n",
       "      <td>David Spade|Sophie Marceau|Ever Carradine|Step...</td>\n",
       "    </tr>\n",
       "    <tr>\n",
       "      <th>director</th>\n",
       "      <td>Sngmoo Lee</td>\n",
       "      <td>Jeff Pollack</td>\n",
       "    </tr>\n",
       "    <tr>\n",
       "      <th>tagline</th>\n",
       "      <td>Assassin. Hero. Legend.</td>\n",
       "      <td>A comedy about a guy who would do anything to ...</td>\n",
       "    </tr>\n",
       "    <tr>\n",
       "      <th>runtime</th>\n",
       "      <td>100</td>\n",
       "      <td>95</td>\n",
       "    </tr>\n",
       "    <tr>\n",
       "      <th>genres</th>\n",
       "      <td>Adventure|Fantasy|Action|Western|Thriller</td>\n",
       "      <td>Comedy|Romance</td>\n",
       "    </tr>\n",
       "    <tr>\n",
       "      <th>production_companies</th>\n",
       "      <td>Boram Entertainment Inc.</td>\n",
       "      <td>Alcon Entertainment|Dinamo Entertainment</td>\n",
       "    </tr>\n",
       "    <tr>\n",
       "      <th>release_date</th>\n",
       "      <td>2010-12-02 00:00:00</td>\n",
       "      <td>1999-04-23 00:00:00</td>\n",
       "    </tr>\n",
       "    <tr>\n",
       "      <th>release_year</th>\n",
       "      <td>2010</td>\n",
       "      <td>1999</td>\n",
       "    </tr>\n",
       "  </tbody>\n",
       "</table>\n",
       "</div>"
      ],
      "text/plain": [
       "                                                                   2244  \\\n",
       "budget                                                        425000000   \n",
       "revenue                                                        11087569   \n",
       "profit                                                       -413912431   \n",
       "original_title                                        The Warrior's Way   \n",
       "cast                  Kate Bosworth|Jang Dong-gun|Geoffrey Rush|Dann...   \n",
       "director                                                     Sngmoo Lee   \n",
       "tagline                                         Assassin. Hero. Legend.   \n",
       "runtime                                                             100   \n",
       "genres                        Adventure|Fantasy|Action|Western|Thriller   \n",
       "production_companies                           Boram Entertainment Inc.   \n",
       "release_date                                        2010-12-02 00:00:00   \n",
       "release_year                                                       2010   \n",
       "\n",
       "                                                                   2618  \n",
       "budget                                                                1  \n",
       "revenue                                                             100  \n",
       "profit                                                               99  \n",
       "original_title                                             Lost & Found  \n",
       "cast                  David Spade|Sophie Marceau|Ever Carradine|Step...  \n",
       "director                                                   Jeff Pollack  \n",
       "tagline               A comedy about a guy who would do anything to ...  \n",
       "runtime                                                              95  \n",
       "genres                                                   Comedy|Romance  \n",
       "production_companies           Alcon Entertainment|Dinamo Entertainment  \n",
       "release_date                                        1999-04-23 00:00:00  \n",
       "release_year                                                       1999  "
      ]
     },
     "execution_count": 14,
     "metadata": {},
     "output_type": "execute_result"
    }
   ],
   "source": [
    "simple_analysis('budget')"
   ]
  },
  {
   "cell_type": "markdown",
   "metadata": {},
   "source": [
    "### Answear Question 2 \n",
    "which movie has the most and least budgets ?\n",
    "\n",
    "**The result shows that \"The Warrior's Way\" movie has the highest budget and \"Lost & Found\" has the lowest.**\n",
    "\n",
    "<a href=\"#home11\">back to Table of Contents</a>"
   ]
  },
  {
   "cell_type": "markdown",
   "metadata": {},
   "source": [
    "### Research Question 3\n",
    "**which movie has the most and least revenue ?**\n",
    "\n",
    "\n",
    "in order to know this i will use the same function, simple_analysis."
   ]
  },
  {
   "cell_type": "code",
   "execution_count": 15,
   "metadata": {},
   "outputs": [
    {
     "data": {
      "text/html": [
       "<div>\n",
       "<style>\n",
       "    .dataframe thead tr:only-child th {\n",
       "        text-align: right;\n",
       "    }\n",
       "\n",
       "    .dataframe thead th {\n",
       "        text-align: left;\n",
       "    }\n",
       "\n",
       "    .dataframe tbody tr th {\n",
       "        vertical-align: top;\n",
       "    }\n",
       "</style>\n",
       "<table border=\"1\" class=\"dataframe\">\n",
       "  <thead>\n",
       "    <tr style=\"text-align: right;\">\n",
       "      <th></th>\n",
       "      <th>1386</th>\n",
       "      <th>5067</th>\n",
       "    </tr>\n",
       "  </thead>\n",
       "  <tbody>\n",
       "    <tr>\n",
       "      <th>budget</th>\n",
       "      <td>237000000</td>\n",
       "      <td>6000000</td>\n",
       "    </tr>\n",
       "    <tr>\n",
       "      <th>revenue</th>\n",
       "      <td>2781505847</td>\n",
       "      <td>2</td>\n",
       "    </tr>\n",
       "    <tr>\n",
       "      <th>profit</th>\n",
       "      <td>2544505847</td>\n",
       "      <td>-5999998</td>\n",
       "    </tr>\n",
       "    <tr>\n",
       "      <th>original_title</th>\n",
       "      <td>Avatar</td>\n",
       "      <td>Shattered Glass</td>\n",
       "    </tr>\n",
       "    <tr>\n",
       "      <th>cast</th>\n",
       "      <td>Sam Worthington|Zoe Saldana|Sigourney Weaver|S...</td>\n",
       "      <td>Hayden Christensen|Peter Sarsgaard|ChloÃ« Sevi...</td>\n",
       "    </tr>\n",
       "    <tr>\n",
       "      <th>director</th>\n",
       "      <td>James Cameron</td>\n",
       "      <td>Billy Ray</td>\n",
       "    </tr>\n",
       "    <tr>\n",
       "      <th>tagline</th>\n",
       "      <td>Enter the World of Pandora.</td>\n",
       "      <td>NaN</td>\n",
       "    </tr>\n",
       "    <tr>\n",
       "      <th>runtime</th>\n",
       "      <td>162</td>\n",
       "      <td>94</td>\n",
       "    </tr>\n",
       "    <tr>\n",
       "      <th>genres</th>\n",
       "      <td>Action|Adventure|Fantasy|Science Fiction</td>\n",
       "      <td>Drama|History</td>\n",
       "    </tr>\n",
       "    <tr>\n",
       "      <th>production_companies</th>\n",
       "      <td>Ingenious Film Partners|Twentieth Century Fox ...</td>\n",
       "      <td>Lions Gate Films|Cruise/Wagner Productions|Bau...</td>\n",
       "    </tr>\n",
       "    <tr>\n",
       "      <th>release_date</th>\n",
       "      <td>2009-12-10 00:00:00</td>\n",
       "      <td>2003-11-14 00:00:00</td>\n",
       "    </tr>\n",
       "    <tr>\n",
       "      <th>release_year</th>\n",
       "      <td>2009</td>\n",
       "      <td>2003</td>\n",
       "    </tr>\n",
       "  </tbody>\n",
       "</table>\n",
       "</div>"
      ],
      "text/plain": [
       "                                                                   1386  \\\n",
       "budget                                                        237000000   \n",
       "revenue                                                      2781505847   \n",
       "profit                                                       2544505847   \n",
       "original_title                                                   Avatar   \n",
       "cast                  Sam Worthington|Zoe Saldana|Sigourney Weaver|S...   \n",
       "director                                                  James Cameron   \n",
       "tagline                                     Enter the World of Pandora.   \n",
       "runtime                                                             162   \n",
       "genres                         Action|Adventure|Fantasy|Science Fiction   \n",
       "production_companies  Ingenious Film Partners|Twentieth Century Fox ...   \n",
       "release_date                                        2009-12-10 00:00:00   \n",
       "release_year                                                       2009   \n",
       "\n",
       "                                                                   5067  \n",
       "budget                                                          6000000  \n",
       "revenue                                                               2  \n",
       "profit                                                         -5999998  \n",
       "original_title                                          Shattered Glass  \n",
       "cast                  Hayden Christensen|Peter Sarsgaard|ChloÃ« Sevi...  \n",
       "director                                                      Billy Ray  \n",
       "tagline                                                             NaN  \n",
       "runtime                                                              94  \n",
       "genres                                                    Drama|History  \n",
       "production_companies  Lions Gate Films|Cruise/Wagner Productions|Bau...  \n",
       "release_date                                        2003-11-14 00:00:00  \n",
       "release_year                                                       2003  "
      ]
     },
     "execution_count": 15,
     "metadata": {},
     "output_type": "execute_result"
    }
   ],
   "source": [
    "simple_analysis('revenue')"
   ]
  },
  {
   "cell_type": "markdown",
   "metadata": {},
   "source": [
    "### Answear Question 3\n",
    "which movie has the most and least revenue ?\n",
    "\n",
    "**The result shows that \"Avatar\" movie has the highest revenue and \"Shattered Glass\" has the lowest.**\n",
    "\n",
    "<a href=\"#home11\">back to Table of Contents</a>"
   ]
  },
  {
   "cell_type": "markdown",
   "metadata": {},
   "source": [
    "### Research Question 4 \n",
    "\n",
    "**what is the average runtime of the movies ?**\n",
    "\n",
    "in order to know this i will create function to calculate the average of all the values in the given column."
   ]
  },
  {
   "cell_type": "code",
   "execution_count": 16,
   "metadata": {},
   "outputs": [],
   "source": [
    "def average(column):\n",
    "    return tmdb[column].mean()"
   ]
  },
  {
   "cell_type": "markdown",
   "metadata": {},
   "source": [
    "now i will run the function with the \"Runtime coulmn\"\n",
    "\n",
    "### Answear Question 4\n",
    "what is the average runtime of the movies ?"
   ]
  },
  {
   "cell_type": "code",
   "execution_count": 17,
   "metadata": {
    "scrolled": true
   },
   "outputs": [
    {
     "name": "stdout",
     "output_type": "stream",
     "text": [
      "The average runtime of all the movies is 109.22029 minutes \n"
     ]
    }
   ],
   "source": [
    "avg11=average('runtime')\n",
    "print('The average runtime of all the movies is {} minutes '.format(round(avg11, 5)))"
   ]
  },
  {
   "cell_type": "markdown",
   "metadata": {},
   "source": [
    "**Representing the average data in a histogram**"
   ]
  },
  {
   "cell_type": "code",
   "execution_count": 18,
   "metadata": {},
   "outputs": [
    {
     "data": {
      "image/png": "[encoded data removed]",
      "text/plain": [
       "<matplotlib.figure.Figure at 0x7fb0f8e54a90>"
      ]
     },
     "metadata": {
      "needs_background": "light"
     },
     "output_type": "display_data"
    }
   ],
   "source": [
    "plt.figure(figsize=(9,5), dpi = 100)\n",
    "\n",
    "plt.xlabel('Runtime in minutes', fontsize = 13)\n",
    "plt.ylabel('Movies', fontsize=13)\n",
    "plt.title('Runtime of all the movies', fontsize=13)\n",
    "plt.hist(tmdb['runtime'], rwidth = 0.8, bins =37, color='red')\n",
    "\n",
    "plt.show()"
   ]
  },
  {
   "cell_type": "markdown",
   "metadata": {},
   "source": [
    "<a href=\"#home11\">back to Table of Contents</a>"
   ]
  },
  {
   "cell_type": "markdown",
   "metadata": {},
   "source": [
    "### Research Question 5 \n",
    "\n",
    "**who are the top 3 directors with the most released movies ?**\n",
    "\n",
    "in order to know this i must create a function to separate the content because some columns contains more that one value separated by '|' "
   ]
  },
  {
   "cell_type": "code",
   "execution_count": 19,
   "metadata": {},
   "outputs": [],
   "source": [
    "def separated_by(column_name):\n",
    "    a = tmdb[column_name].str.cat(sep = '|')\n",
    "    a = pd.Series(a.split('|'))\n",
    "    #desc\n",
    "    count = a.value_counts(ascending = False)\n",
    "    \n",
    "    return count"
   ]
  },
  {
   "cell_type": "markdown",
   "metadata": {},
   "source": [
    "now i will use this (separated_by) function."
   ]
  },
  {
   "cell_type": "markdown",
   "metadata": {},
   "source": [
    "### Answear Question 5\n",
    "who are the top 3 directors with the most released movies ?"
   ]
  },
  {
   "cell_type": "code",
   "execution_count": 23,
   "metadata": {},
   "outputs": [
    {
     "data": {
      "text/plain": [
       "Steven Spielberg    28\n",
       "Clint Eastwood      24\n",
       "Ridley Scott        21\n",
       "dtype: int64"
      ]
     },
     "execution_count": 23,
     "metadata": {},
     "output_type": "execute_result"
    }
   ],
   "source": [
    "directors = separated_by('director')\n",
    "\n",
    "directors.head(3)"
   ]
  },
  {
   "cell_type": "markdown",
   "metadata": {},
   "source": [
    "<a href=\"#home11\">back to Table of Contents</a>"
   ]
  },
  {
   "cell_type": "markdown",
   "metadata": {},
   "source": [
    "### Research Question 6\n",
    "\n",
    "**Which genre were more successful?**\n",
    "\n",
    "in order to know this i will call my function separated_by"
   ]
  },
  {
   "cell_type": "code",
   "execution_count": 36,
   "metadata": {},
   "outputs": [],
   "source": [
    "genres = separated_by('genres')"
   ]
  },
  {
   "cell_type": "markdown",
   "metadata": {},
   "source": [
    "### Answear Question 6\n",
    "Which genre were more successful?"
   ]
  },
  {
   "cell_type": "code",
   "execution_count": 86,
   "metadata": {},
   "outputs": [
    {
     "data": {
      "text/plain": [
       "Drama       1756\n",
       "Comedy      1358\n",
       "Thriller    1204\n",
       "Action      1085\n",
       "dtype: int64"
      ]
     },
     "execution_count": 86,
     "metadata": {},
     "output_type": "execute_result"
    }
   ],
   "source": [
    "genres.head(4)"
   ]
  },
  {
   "cell_type": "markdown",
   "metadata": {},
   "source": [
    "**Representing the genres data in a graph**"
   ]
  },
  {
   "cell_type": "code",
   "execution_count": 87,
   "metadata": {},
   "outputs": [
    {
     "data": {
      "image/png": "[encoded data removed]",
      "text/plain": [
       "<matplotlib.figure.Figure at 0x7fb0f45092e8>"
      ]
     },
     "metadata": {},
     "output_type": "display_data"
    }
   ],
   "source": [
    "genres.plot(kind= 'barh',figsize = (13,6),fontsize=12,colormap='tab20c')\n",
    "\n",
    "plt.title(\"Most Popular Genres\",fontsize=15)\n",
    "plt.xlabel('Number Of Movies',fontsize=15)\n",
    "plt.ylabel(\"Genres\",fontsize= 15)\n",
    "sns.set_style(\"whitegrid\")"
   ]
  },
  {
   "cell_type": "markdown",
   "metadata": {},
   "source": [
    "<a href=\"#home11\">back to Table of Contents</a>"
   ]
  },
  {
   "cell_type": "markdown",
   "metadata": {},
   "source": [
    "### Research Question 7\n",
    "\n",
    "**List the actors that are most frequent among others**\n",
    "\n",
    "in order to know this i will call my function separated_by"
   ]
  },
  {
   "cell_type": "code",
   "execution_count": 39,
   "metadata": {},
   "outputs": [],
   "source": [
    "actors = separated_by('cast')"
   ]
  },
  {
   "cell_type": "markdown",
   "metadata": {},
   "source": [
    "### Answear Question 7\n",
    "List the actors that are most frequent among others"
   ]
  },
  {
   "cell_type": "code",
   "execution_count": 42,
   "metadata": {},
   "outputs": [
    {
     "data": {
      "text/plain": [
       "Robert De Niro        52\n",
       "Bruce Willis          46\n",
       "Samuel L. Jackson     44\n",
       "Nicolas Cage          43\n",
       "Matt Damon            36\n",
       "Johnny Depp           35\n",
       "Morgan Freeman        34\n",
       "Brad Pitt             34\n",
       "Sylvester Stallone    34\n",
       "Tom Hanks             34\n",
       "Harrison Ford         34\n",
       "Tom Cruise            33\n",
       "dtype: int64"
      ]
     },
     "execution_count": 42,
     "metadata": {},
     "output_type": "execute_result"
    }
   ],
   "source": [
    "actors.head(12)"
   ]
  },
  {
   "cell_type": "markdown",
   "metadata": {},
   "source": [
    "**Representing the actors data in a graph**"
   ]
  },
  {
   "cell_type": "code",
   "execution_count": 60,
   "metadata": {},
   "outputs": [
    {
     "data": {
      "image/png": "[encoded data removed]",
      "text/plain": [
       "<matplotlib.figure.Figure at 0x7fb0f89be6d8>"
      ]
     },
     "metadata": {},
     "output_type": "display_data"
    }
   ],
   "source": [
    "actors.iloc[:12].plot.bar(figsize=(13,6),colormap= 'tab20c',fontsize=12)\n",
    "\n",
    "#setup the title and the labels of the plot.\n",
    "plt.title(\"Most Frequent Actor\",fontsize=15)\n",
    "plt.xticks(rotation = 70)\n",
    "plt.xlabel('Actor',fontsize=13)\n",
    "plt.ylabel(\"Number Of Movies\",fontsize= 13)\n",
    "sns.set_style(\"whitegrid\")"
   ]
  },
  {
   "cell_type": "markdown",
   "metadata": {},
   "source": [
    "<a href=\"#home11\">back to Table of Contents</a>"
   ]
  },
  {
   "cell_type": "markdown",
   "metadata": {},
   "source": [
    "### Research Question 8\n",
    "\n",
    "**What kind of properties are associated with movies with high profit?**\n",
    "\n",
    "In order to analyze this i will compare and try to figure the relation between the Profit and (runtime ,Budget)"
   ]
  },
  {
   "cell_type": "code",
   "execution_count": 85,
   "metadata": {},
   "outputs": [
    {
     "data": {
      "text/html": [
       "<div>\n",
       "<style>\n",
       "    .dataframe thead tr:only-child th {\n",
       "        text-align: right;\n",
       "    }\n",
       "\n",
       "    .dataframe thead th {\n",
       "        text-align: left;\n",
       "    }\n",
       "\n",
       "    .dataframe tbody tr th {\n",
       "        vertical-align: top;\n",
       "    }\n",
       "</style>\n",
       "<table border=\"1\" class=\"dataframe\">\n",
       "  <thead>\n",
       "    <tr style=\"text-align: right;\">\n",
       "      <th></th>\n",
       "      <th>profit</th>\n",
       "      <th>budget</th>\n",
       "      <th>runtime</th>\n",
       "    </tr>\n",
       "  </thead>\n",
       "  <tbody>\n",
       "    <tr>\n",
       "      <th>1386</th>\n",
       "      <td>2544505847</td>\n",
       "      <td>237000000</td>\n",
       "      <td>162</td>\n",
       "    </tr>\n",
       "    <tr>\n",
       "      <th>3</th>\n",
       "      <td>1868178225</td>\n",
       "      <td>200000000</td>\n",
       "      <td>136</td>\n",
       "    </tr>\n",
       "    <tr>\n",
       "      <th>5231</th>\n",
       "      <td>1645034188</td>\n",
       "      <td>200000000</td>\n",
       "      <td>194</td>\n",
       "    </tr>\n",
       "    <tr>\n",
       "      <th>0</th>\n",
       "      <td>1363528810</td>\n",
       "      <td>150000000</td>\n",
       "      <td>124</td>\n",
       "    </tr>\n",
       "    <tr>\n",
       "      <th>4</th>\n",
       "      <td>1316249360</td>\n",
       "      <td>190000000</td>\n",
       "      <td>137</td>\n",
       "    </tr>\n",
       "    <tr>\n",
       "      <th>4361</th>\n",
       "      <td>1299557910</td>\n",
       "      <td>220000000</td>\n",
       "      <td>143</td>\n",
       "    </tr>\n",
       "    <tr>\n",
       "      <th>3374</th>\n",
       "      <td>1202817822</td>\n",
       "      <td>125000000</td>\n",
       "      <td>130</td>\n",
       "    </tr>\n",
       "    <tr>\n",
       "      <th>14</th>\n",
       "      <td>1125035767</td>\n",
       "      <td>280000000</td>\n",
       "      <td>141</td>\n",
       "    </tr>\n",
       "    <tr>\n",
       "      <th>5422</th>\n",
       "      <td>1124219009</td>\n",
       "      <td>150000000</td>\n",
       "      <td>102</td>\n",
       "    </tr>\n",
       "    <tr>\n",
       "      <th>8094</th>\n",
       "      <td>1084279658</td>\n",
       "      <td>22000000</td>\n",
       "      <td>114</td>\n",
       "    </tr>\n",
       "  </tbody>\n",
       "</table>\n",
       "</div>"
      ],
      "text/plain": [
       "          profit     budget  runtime\n",
       "1386  2544505847  237000000      162\n",
       "3     1868178225  200000000      136\n",
       "5231  1645034188  200000000      194\n",
       "0     1363528810  150000000      124\n",
       "4     1316249360  190000000      137\n",
       "4361  1299557910  220000000      143\n",
       "3374  1202817822  125000000      130\n",
       "14    1125035767  280000000      141\n",
       "5422  1124219009  150000000      102\n",
       "8094  1084279658   22000000      114"
      ]
     },
     "execution_count": 85,
     "metadata": {},
     "output_type": "execute_result"
    }
   ],
   "source": [
    "\n",
    "relation1 = pd.DataFrame(tmdb['profit'].sort_values(ascending=False))\n",
    "data_set1 = ['budget','runtime']\n",
    "for i in data_set1:\n",
    "    relation1[i] = tmdb[i]\n",
    "relation1.head(10)"
   ]
  },
  {
   "cell_type": "code",
   "execution_count": 83,
   "metadata": {},
   "outputs": [
    {
     "data": {
      "image/png": "[encoded data removed]",
      "text/plain": [
       "<matplotlib.figure.Figure at 0x7fb0f452e240>"
      ]
     },
     "metadata": {},
     "output_type": "display_data"
    }
   ],
   "source": [
    "fig, axes = plt.subplots(2,figsize = (16,6))\n",
    "fig.suptitle(\"Profit Vs (Budget,Runtime)\",fontsize=14)\n",
    "\n",
    "\n",
    "sns.regplot(x=tmdb['profit'], y=tmdb['budget'],color='c',ax=axes[0])\n",
    "sns.regplot(x=tmdb['profit'], y=tmdb['runtime'],color='c',ax=axes[1])\n",
    "\n",
    "\n",
    "sns.set_style(\"whitegrid\")"
   ]
  },
  {
   "cell_type": "markdown",
   "metadata": {},
   "source": [
    "### Answear Question 8\n",
    "What kind of properties are associated with movies with high profit?\n",
    "\n",
    "**Profit & Budget :**\n",
    "It turn out that the more you spend in the movie the chance of the profit to be increased is getting more too.\n",
    "From the graph and the line i can tell that the percentage of this to happen can be between 50% and 70%.\n",
    "\n",
    "**Profit & Runtime :**\n",
    "I can not tell that there is a real relation here, i can not guarantee at all, so runtime of the movie will not affect the profit.\n",
    "\n",
    "it might happen but it suly will be caused by other factors as the main causes of it.\n",
    "\n",
    "**I can tell that the affect of the Budget is greater than the effect of the Runtime.**"
   ]
  },
  {
   "cell_type": "markdown",
   "metadata": {},
   "source": [
    "<a href=\"#home11\">back to Table of Contents</a>"
   ]
  },
  {
   "cell_type": "markdown",
   "metadata": {},
   "source": [
    "<a id='limitation'></a>\n",
    "## Limitations or Challenges\n",
    "\n",
    "**1-The data contained some extra column that are not sutable for the analysis purpose such as : id, imdb_id, keywords, homepage.**\n",
    "\n",
    "**2-Some columns has a null ( NAN ) values.** \n",
    "\n",
    "in this case you either delete it or replace it with a value, for example : the mean of the entire column can be great choice.\n",
    "\n",
    "**2-Some columns has wrong data type :so i had to convert release date column into date format** \n",
    "\n",
    "**3-Some records had zero budget or zero revenue, this is clearly unuseful data so i removed it, it was around 7011 records, its almost 70% of the recored so the dataset became small after this removing, thats why i can say the dataset had a real lack of accuracy when it comes to the budget and revenue columns.**\n",
    "\n",
    "**4-The columns of the dataset perresents money but without mentioning the currency, i assumed it and used US dollar but if we want to do the analysis process compared to another makert rather that US the currency is a must.**\n",
    "\n"
   ]
  },
  {
   "cell_type": "markdown",
   "metadata": {},
   "source": [
    "<a href=\"#home11\">back to Table of Contents</a>"
   ]
  },
  {
   "cell_type": "markdown",
   "metadata": {},
   "source": [
    "<a id='conclusions'></a>\n",
    "## Conclusions\n",
    "\n",
    "**The data was huge and very useful, it can be a great material to analyse more deep in order to get the effect of a specific factor, for example :**\n",
    "\n",
    "What factors can lead the movie to be more popular or to have a high vote rating.\n",
    "\n",
    "**I consider my work as the minimum effort on such dataset.**\n",
    "\n",
    "**Conclusions:**\n",
    "\n",
    "**1- The average runtime of all the movies is 109.22029 minutes**\n",
    "\n",
    "**2- top 3 directors with the most released movies are :**\n",
    "\n",
    "    Steven Spielberg    28 movies\n",
    "    Clint Eastwood      24 movies\n",
    "    Ridley Scott        21 movies\n",
    "    \n",
    "**3- Drama is the mots popular Genres, it is the first with 1756 movies,it is surly the producer's faviorate Genre among other Genres, followed by :** \n",
    "\n",
    "    Comedy with      1358 movies\n",
    "    Thriller with    1204 movies\n",
    "    Action with      1085 movies\n",
    "    \n",
    "**4- Robert De Niro frequently appears more than oter actors with 52 movies, followed by :**\n",
    "\n",
    "    Bruce Willis          46 movies\n",
    "    Samuel L. Jackson     44 movies\n",
    "    Nicolas Cage          43 movies\n",
    "\n",
    "**5- There is a relation between the Profit & the Budget althought its not strong one but the more you spend in the movie the chance of the profit to be increased is getting more too.**\n",
    "\n",
    "**6- There was not a clear affect of the Runtime on the Profit of the movie.**\n",
    "\n",
    "\n",
    " \n",
    "\n",
    " \n",
    "\n",
    " \n",
    " \n",
    "**Refrences :**\n",
    "\n",
    "https://matplotlib.org/users/pyplot_tutorial.html\n",
    "\n",
    "https://matplotlib.org/tutorials/colors/colormaps.html\n",
    "\n",
    "http://pandas.pydata.org/pandas-docs/stable/comparison_with_sql.html\n",
    "\n",
    "https://docs.scipy.org/doc/numpy/user/quickstart.html\n",
    "\n",
    "https://carlyhochreiter.files.wordpress.com/2018/05/investigating-movie-dataset.pdf\n",
    "\n",
    "https://matplotlib.org/api/_as_gen/matplotlib.pyplot.subplot.html\n",
    "\n",
    "https://seaborn.pydata.org/tutorial/aesthetics.html?highlight=set_style\n",
    "\n",
    "https://seaborn.pydata.org/generated/seaborn.regplot.html?highlight=regplot\n",
    "\n",
    "http://pandas.pydata.org/pandas-docs/stable/indexing.html\n",
    "\n",
    "https://matplotlib.org/users/pyplot_tutorial.html\n",
    "\n",
    "Python Data Science Handbook by Jake VanderPlas : Chapter 4. Visualization with Matplotlib"
   ]
  },
  {
   "cell_type": "markdown",
   "metadata": {},
   "source": [
    "<a href=\"#home11\">back to Table of Contents</a>"
   ]
  },
  {
   "cell_type": "code",
   "execution_count": null,
   "metadata": {
    "collapsed": true
   },
   "outputs": [],
   "source": [
    "from subprocess import call\n",
    "call(['python', '-m', 'nbconvert', 'Investigate_a_Dataset.ipynb'])"
   ]
  }
 ],
 "metadata": {
  "kernelspec": {
   "display_name": "Python 3",
   "language": "python",
   "name": "python3"
  },
  "language_info": {
   "codemirror_mode": {
    "name": "ipython",
    "version": 3
   },
   "file_extension": ".py",
   "mimetype": "text/x-python",
   "name": "python",
   "nbconvert_exporter": "python",
   "pygments_lexer": "ipython3",
   "version": "3.6.3"
  }
 },
 "nbformat": 4,
 "nbformat_minor": 2
}
